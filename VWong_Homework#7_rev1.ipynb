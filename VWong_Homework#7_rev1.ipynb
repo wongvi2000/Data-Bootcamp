{
 "cells": [
  {
   "cell_type": "markdown",
   "metadata": {},
   "source": [
    "## Plot Sentiments"
   ]
  },
  {
   "cell_type": "code",
   "execution_count": 1,
   "metadata": {},
   "outputs": [],
   "source": [
    "# Dependencies\n",
    "import numpy as np\n",
    "import pandas as pd\n",
    "import matplotlib.pyplot as plt\n",
    "import json\n",
    "import tweepy\n",
    "import time\n",
    "import seaborn as sns\n",
    "from config import consumer_key, consumer_secret,  access_token, access_token_secret"
   ]
  },
  {
   "cell_type": "code",
   "execution_count": 2,
   "metadata": {},
   "outputs": [],
   "source": [
    "# Initialize Sentiment Analyzer\n",
    "from vaderSentiment.vaderSentiment import SentimentIntensityAnalyzer\n",
    "analyzer = SentimentIntensityAnalyzer()"
   ]
  },
  {
   "cell_type": "code",
   "execution_count": 3,
   "metadata": {},
   "outputs": [],
   "source": [
    "# Setup Tweepy API Authentication\n",
    "auth = tweepy.OAuthHandler(consumer_key, consumer_secret)\n",
    "auth.set_access_token(access_token, access_token_secret)\n",
    "api = tweepy.API(auth, wait_on_rate_limit=True)"
   ]
  },
  {
   "cell_type": "code",
   "execution_count": 6,
   "metadata": {},
   "outputs": [],
   "source": [
    "# Target Account 1\n",
    "target_userCNN = \"CNN\"\n",
    "\n",
    "# Counter\n",
    "counter = 1\n",
    "\n",
    "# Variables for holding sentiments\n",
    "sentimentsCNN = []\n",
    "\n",
    "public_tweetsCNN = api.user_timeline(target_userCNN, count=100)\n",
    "\n",
    "\n",
    "# Loop through all tweets \n",
    "for status in public_tweetsCNN:\n",
    "    # Print Tweets\n",
    "    # print(\"Tweet %s: %s\" % (counter, tweet[\"text\"]))\n",
    "\n",
    "    tweet = status._json\n",
    "    # Run Vader Analysis on each tweet\n",
    "    compound = analyzer.polarity_scores(tweet[\"text\"])[\"compound\"]\n",
    "    pos = analyzer.polarity_scores(tweet[\"text\"])[\"pos\"]\n",
    "    neu = analyzer.polarity_scores(tweet[\"text\"])[\"neu\"]\n",
    "    neg = analyzer.polarity_scores(tweet[\"text\"])[\"neg\"]\n",
    "    tweets_ago = counter\n",
    "\n",
    "    # Add sentiments for each tweet into an array\n",
    "    sentimentsCNN.append({\"Date\": tweet[\"created_at\"], \n",
    "                       \"Compound\": compound,\n",
    "                       \"Positive\": pos,\n",
    "                       \"Negative\": neu,\n",
    "                       \"Neutral\": neg,\n",
    "                       \"Tweets Ago\": counter})\n",
    "\n",
    "    # Add to counter \n",
    "    counter = counter + 1\n"
   ]
  },
  {
   "cell_type": "code",
   "execution_count": 7,
   "metadata": {},
   "outputs": [],
   "source": [
    "# Target Account 2\n",
    "target_userNYT = \"@nytimes\" \n",
    "\n",
    "# Counter\n",
    "counter = 1\n",
    "\n",
    "# Variables for holding sentiments\n",
    "sentimentsNYT = []\n",
    "\n",
    "public_tweetsNYT = api.user_timeline(target_userNYT, count=100)\n",
    "\n",
    "# Loop through all tweets \n",
    "for status in public_tweetsNYT:\n",
    "    # Print Tweets\n",
    "    # print(\"Tweet %s: %s\" % (counter, tweet[\"text\"]))\n",
    "\n",
    "    tweet = status._json\n",
    "    # Run Vader Analysis on each tweet\n",
    "    compound = analyzer.polarity_scores(tweet[\"text\"])[\"compound\"]\n",
    "    pos = analyzer.polarity_scores(tweet[\"text\"])[\"pos\"]\n",
    "    neu = analyzer.polarity_scores(tweet[\"text\"])[\"neu\"]\n",
    "    neg = analyzer.polarity_scores(tweet[\"text\"])[\"neg\"]\n",
    "    tweets_ago = counter\n",
    "\n",
    "    # Add sentiments for each tweet into an array\n",
    "    sentimentsNYT.append({\"Date\": tweet[\"created_at\"], \n",
    "                       \"Compound\": compound,\n",
    "                       \"Positive\": pos,\n",
    "                       \"Negative\": neu,\n",
    "                       \"Neutral\": neg,\n",
    "                       \"Tweets Ago\": counter})\n",
    "\n",
    "    # Add to counter \n",
    "    counter = counter + 1"
   ]
  },
  {
   "cell_type": "code",
   "execution_count": 8,
   "metadata": {},
   "outputs": [],
   "source": [
    "# Target Account 3\n",
    "target_userBBC = \"@BBCNews\"\n",
    "\n",
    "# Counter\n",
    "counter = 1\n",
    "\n",
    "# Variables for holding sentiments\n",
    "sentimentsBBC = []\n",
    "\n",
    "public_tweetsBBC = api.user_timeline(target_userBBC, count=100)\n",
    "\n",
    "# Loop through all tweets \n",
    "for status in public_tweetsBBC:\n",
    "    # Print Tweets\n",
    "    # print(\"Tweet %s: %s\" % (counter, tweet[\"text\"]))\n",
    "\n",
    "    tweet = status._json\n",
    "    # Run Vader Analysis on each tweet\n",
    "    compound = analyzer.polarity_scores(tweet[\"text\"])[\"compound\"]\n",
    "    pos = analyzer.polarity_scores(tweet[\"text\"])[\"pos\"]\n",
    "    neu = analyzer.polarity_scores(tweet[\"text\"])[\"neu\"]\n",
    "    neg = analyzer.polarity_scores(tweet[\"text\"])[\"neg\"]\n",
    "    tweets_ago = counter\n",
    "\n",
    "    # Add sentiments for each tweet into an array\n",
    "    sentimentsBBC.append({\"Date\": tweet[\"created_at\"], \n",
    "                       \"Compound\": compound,\n",
    "                       \"Positive\": pos,\n",
    "                       \"Negative\": neu,\n",
    "                       \"Neutral\": neg,\n",
    "                       \"Tweets Ago\": counter})\n",
    "\n",
    "    # Add to counter \n",
    "    counter = counter + 1"
   ]
  },
  {
   "cell_type": "code",
   "execution_count": 9,
   "metadata": {},
   "outputs": [],
   "source": [
    "# Target Account 4\n",
    "target_userFOX = \"@FoxNews\"\n",
    "\n",
    "# Counter\n",
    "counter = 1\n",
    "\n",
    "# Variables for holding sentiments\n",
    "sentimentsFOX = []\n",
    "\n",
    "public_tweetsFOX = api.user_timeline(target_userFOX, count=100)\n",
    "\n",
    "# Loop through all tweets \n",
    "for status in public_tweetsFOX:\n",
    "    # Print Tweets\n",
    "    # print(\"Tweet %s: %s\" % (counter, tweet[\"text\"]))\n",
    "\n",
    "    tweet = status._json\n",
    "    # Run Vader Analysis on each tweet\n",
    "    compound = analyzer.polarity_scores(tweet[\"text\"])[\"compound\"]\n",
    "    pos = analyzer.polarity_scores(tweet[\"text\"])[\"pos\"]\n",
    "    neu = analyzer.polarity_scores(tweet[\"text\"])[\"neu\"]\n",
    "    neg = analyzer.polarity_scores(tweet[\"text\"])[\"neg\"]\n",
    "    tweets_ago = counter\n",
    "\n",
    "    # Add sentiments for each tweet into an array\n",
    "    sentimentsFOX.append({\"Date\": tweet[\"created_at\"], \n",
    "                       \"Compound\": compound,\n",
    "                       \"Positive\": pos,\n",
    "                       \"Negative\": neu,\n",
    "                       \"Neutral\": neg,\n",
    "                       \"Tweets Ago\": counter})\n",
    "\n",
    "    # Add to counter \n",
    "    counter = counter + 1"
   ]
  },
  {
   "cell_type": "code",
   "execution_count": 10,
   "metadata": {},
   "outputs": [],
   "source": [
    "# Target Account 5\n",
    "target_userCBS = \"@CBSNews\"\n",
    "\n",
    "# Counter\n",
    "counter = 1\n",
    "\n",
    "# Variables for holding sentiments\n",
    "sentimentsCBS = []\n",
    "\n",
    "public_tweetsCBS = api.user_timeline(target_userCBS, count=100)\n",
    "\n",
    "# Loop through all tweets \n",
    "for status in public_tweetsCBS:\n",
    "    # Print Tweets\n",
    "    # print(\"Tweet %s: %s\" % (counter, tweet[\"text\"]))\n",
    "\n",
    "    tweet = status._json\n",
    "    # Run Vader Analysis on each tweet\n",
    "    compound = analyzer.polarity_scores(tweet[\"text\"])[\"compound\"]\n",
    "    pos = analyzer.polarity_scores(tweet[\"text\"])[\"pos\"]\n",
    "    neu = analyzer.polarity_scores(tweet[\"text\"])[\"neu\"]\n",
    "    neg = analyzer.polarity_scores(tweet[\"text\"])[\"neg\"]\n",
    "    tweets_ago = counter\n",
    "\n",
    "    # Add sentiments for each tweet into an array\n",
    "    sentimentsCBS.append({\"Date\": tweet[\"created_at\"], \n",
    "                       \"Compound\": compound,\n",
    "                       \"Positive\": pos,\n",
    "                       \"Negative\": neu,\n",
    "                       \"Neutral\": neg,\n",
    "                       \"Tweets Ago\": counter})\n",
    "\n",
    "    # Add to counter \n",
    "    counter = counter + 1"
   ]
  },
  {
   "cell_type": "code",
   "execution_count": 11,
   "metadata": {},
   "outputs": [],
   "source": [
    "# Convert sentiments to DataFrame\n",
    "sentimentsCBS_pd = pd.DataFrame.from_dict(sentimentsCBS)\n",
    "sentimentsFOX_pd = pd.DataFrame.from_dict(sentimentsFOX)\n",
    "sentimentsBBC_pd = pd.DataFrame.from_dict(sentimentsBBC)\n",
    "sentimentsNYT_pd = pd.DataFrame.from_dict(sentimentsNYT)\n",
    "sentimentsCNN_pd = pd.DataFrame.from_dict(sentimentsCNN)"
   ]
  },
  {
   "cell_type": "code",
   "execution_count": 12,
   "metadata": {},
   "outputs": [
    {
     "data": {
      "text/html": [
       "<div>\n",
       "<style scoped>\n",
       "    .dataframe tbody tr th:only-of-type {\n",
       "        vertical-align: middle;\n",
       "    }\n",
       "\n",
       "    .dataframe tbody tr th {\n",
       "        vertical-align: top;\n",
       "    }\n",
       "\n",
       "    .dataframe thead th {\n",
       "        text-align: right;\n",
       "    }\n",
       "</style>\n",
       "<table border=\"1\" class=\"dataframe\">\n",
       "  <thead>\n",
       "    <tr style=\"text-align: right;\">\n",
       "      <th></th>\n",
       "      <th>Compound</th>\n",
       "      <th>Date</th>\n",
       "      <th>Negative</th>\n",
       "      <th>Neutral</th>\n",
       "      <th>Positive</th>\n",
       "      <th>Tweets Ago</th>\n",
       "    </tr>\n",
       "  </thead>\n",
       "  <tbody>\n",
       "    <tr>\n",
       "      <th>0</th>\n",
       "      <td>0.0000</td>\n",
       "      <td>Mon Apr 09 20:19:29 +0000 2018</td>\n",
       "      <td>1.000</td>\n",
       "      <td>0.000</td>\n",
       "      <td>0.000</td>\n",
       "      <td>1</td>\n",
       "    </tr>\n",
       "    <tr>\n",
       "      <th>1</th>\n",
       "      <td>-0.6369</td>\n",
       "      <td>Mon Apr 09 20:06:45 +0000 2018</td>\n",
       "      <td>0.600</td>\n",
       "      <td>0.304</td>\n",
       "      <td>0.096</td>\n",
       "      <td>2</td>\n",
       "    </tr>\n",
       "    <tr>\n",
       "      <th>2</th>\n",
       "      <td>0.0000</td>\n",
       "      <td>Mon Apr 09 20:00:02 +0000 2018</td>\n",
       "      <td>1.000</td>\n",
       "      <td>0.000</td>\n",
       "      <td>0.000</td>\n",
       "      <td>3</td>\n",
       "    </tr>\n",
       "    <tr>\n",
       "      <th>3</th>\n",
       "      <td>-0.6369</td>\n",
       "      <td>Mon Apr 09 19:40:01 +0000 2018</td>\n",
       "      <td>0.500</td>\n",
       "      <td>0.380</td>\n",
       "      <td>0.120</td>\n",
       "      <td>4</td>\n",
       "    </tr>\n",
       "    <tr>\n",
       "      <th>4</th>\n",
       "      <td>-0.6908</td>\n",
       "      <td>Mon Apr 09 19:30:02 +0000 2018</td>\n",
       "      <td>0.749</td>\n",
       "      <td>0.251</td>\n",
       "      <td>0.000</td>\n",
       "      <td>5</td>\n",
       "    </tr>\n",
       "  </tbody>\n",
       "</table>\n",
       "</div>"
      ],
      "text/plain": [
       "   Compound                            Date  Negative  Neutral  Positive  \\\n",
       "0    0.0000  Mon Apr 09 20:19:29 +0000 2018     1.000    0.000     0.000   \n",
       "1   -0.6369  Mon Apr 09 20:06:45 +0000 2018     0.600    0.304     0.096   \n",
       "2    0.0000  Mon Apr 09 20:00:02 +0000 2018     1.000    0.000     0.000   \n",
       "3   -0.6369  Mon Apr 09 19:40:01 +0000 2018     0.500    0.380     0.120   \n",
       "4   -0.6908  Mon Apr 09 19:30:02 +0000 2018     0.749    0.251     0.000   \n",
       "\n",
       "   Tweets Ago  \n",
       "0           1  \n",
       "1           2  \n",
       "2           3  \n",
       "3           4  \n",
       "4           5  "
      ]
     },
     "execution_count": 12,
     "metadata": {},
     "output_type": "execute_result"
    }
   ],
   "source": [
    "sentimentsCBS_pd.head()"
   ]
  },
  {
   "cell_type": "code",
   "execution_count": 13,
   "metadata": {},
   "outputs": [
    {
     "data": {
      "text/html": [
       "<div>\n",
       "<style scoped>\n",
       "    .dataframe tbody tr th:only-of-type {\n",
       "        vertical-align: middle;\n",
       "    }\n",
       "\n",
       "    .dataframe tbody tr th {\n",
       "        vertical-align: top;\n",
       "    }\n",
       "\n",
       "    .dataframe thead th {\n",
       "        text-align: right;\n",
       "    }\n",
       "</style>\n",
       "<table border=\"1\" class=\"dataframe\">\n",
       "  <thead>\n",
       "    <tr style=\"text-align: right;\">\n",
       "      <th></th>\n",
       "      <th>Compound</th>\n",
       "      <th>Date</th>\n",
       "      <th>Negative</th>\n",
       "      <th>Neutral</th>\n",
       "      <th>Positive</th>\n",
       "      <th>Tweets Ago</th>\n",
       "    </tr>\n",
       "  </thead>\n",
       "  <tbody>\n",
       "    <tr>\n",
       "      <th>0</th>\n",
       "      <td>-0.6369</td>\n",
       "      <td>Mon Apr 09 20:17:40 +0000 2018</td>\n",
       "      <td>0.792</td>\n",
       "      <td>0.208</td>\n",
       "      <td>0.000</td>\n",
       "      <td>1</td>\n",
       "    </tr>\n",
       "    <tr>\n",
       "      <th>1</th>\n",
       "      <td>-0.5106</td>\n",
       "      <td>Mon Apr 09 20:08:00 +0000 2018</td>\n",
       "      <td>0.552</td>\n",
       "      <td>0.325</td>\n",
       "      <td>0.123</td>\n",
       "      <td>2</td>\n",
       "    </tr>\n",
       "    <tr>\n",
       "      <th>2</th>\n",
       "      <td>0.0000</td>\n",
       "      <td>Mon Apr 09 19:58:40 +0000 2018</td>\n",
       "      <td>1.000</td>\n",
       "      <td>0.000</td>\n",
       "      <td>0.000</td>\n",
       "      <td>3</td>\n",
       "    </tr>\n",
       "    <tr>\n",
       "      <th>3</th>\n",
       "      <td>0.0000</td>\n",
       "      <td>Mon Apr 09 19:51:11 +0000 2018</td>\n",
       "      <td>1.000</td>\n",
       "      <td>0.000</td>\n",
       "      <td>0.000</td>\n",
       "      <td>4</td>\n",
       "    </tr>\n",
       "    <tr>\n",
       "      <th>4</th>\n",
       "      <td>0.0000</td>\n",
       "      <td>Mon Apr 09 19:40:00 +0000 2018</td>\n",
       "      <td>1.000</td>\n",
       "      <td>0.000</td>\n",
       "      <td>0.000</td>\n",
       "      <td>5</td>\n",
       "    </tr>\n",
       "  </tbody>\n",
       "</table>\n",
       "</div>"
      ],
      "text/plain": [
       "   Compound                            Date  Negative  Neutral  Positive  \\\n",
       "0   -0.6369  Mon Apr 09 20:17:40 +0000 2018     0.792    0.208     0.000   \n",
       "1   -0.5106  Mon Apr 09 20:08:00 +0000 2018     0.552    0.325     0.123   \n",
       "2    0.0000  Mon Apr 09 19:58:40 +0000 2018     1.000    0.000     0.000   \n",
       "3    0.0000  Mon Apr 09 19:51:11 +0000 2018     1.000    0.000     0.000   \n",
       "4    0.0000  Mon Apr 09 19:40:00 +0000 2018     1.000    0.000     0.000   \n",
       "\n",
       "   Tweets Ago  \n",
       "0           1  \n",
       "1           2  \n",
       "2           3  \n",
       "3           4  \n",
       "4           5  "
      ]
     },
     "execution_count": 13,
     "metadata": {},
     "output_type": "execute_result"
    }
   ],
   "source": [
    "sentimentsFOX_pd.head()"
   ]
  },
  {
   "cell_type": "code",
   "execution_count": 14,
   "metadata": {},
   "outputs": [
    {
     "data": {
      "text/html": [
       "<div>\n",
       "<style scoped>\n",
       "    .dataframe tbody tr th:only-of-type {\n",
       "        vertical-align: middle;\n",
       "    }\n",
       "\n",
       "    .dataframe tbody tr th {\n",
       "        vertical-align: top;\n",
       "    }\n",
       "\n",
       "    .dataframe thead th {\n",
       "        text-align: right;\n",
       "    }\n",
       "</style>\n",
       "<table border=\"1\" class=\"dataframe\">\n",
       "  <thead>\n",
       "    <tr style=\"text-align: right;\">\n",
       "      <th></th>\n",
       "      <th>Compound</th>\n",
       "      <th>Date</th>\n",
       "      <th>Negative</th>\n",
       "      <th>Neutral</th>\n",
       "      <th>Positive</th>\n",
       "      <th>Tweets Ago</th>\n",
       "    </tr>\n",
       "  </thead>\n",
       "  <tbody>\n",
       "    <tr>\n",
       "      <th>0</th>\n",
       "      <td>-0.7845</td>\n",
       "      <td>Mon Apr 09 20:08:24 +0000 2018</td>\n",
       "      <td>0.655</td>\n",
       "      <td>0.345</td>\n",
       "      <td>0.0</td>\n",
       "      <td>1</td>\n",
       "    </tr>\n",
       "    <tr>\n",
       "      <th>1</th>\n",
       "      <td>-0.2732</td>\n",
       "      <td>Mon Apr 09 18:44:47 +0000 2018</td>\n",
       "      <td>0.741</td>\n",
       "      <td>0.259</td>\n",
       "      <td>0.0</td>\n",
       "      <td>2</td>\n",
       "    </tr>\n",
       "    <tr>\n",
       "      <th>2</th>\n",
       "      <td>-0.3182</td>\n",
       "      <td>Mon Apr 09 17:33:37 +0000 2018</td>\n",
       "      <td>0.796</td>\n",
       "      <td>0.204</td>\n",
       "      <td>0.0</td>\n",
       "      <td>3</td>\n",
       "    </tr>\n",
       "    <tr>\n",
       "      <th>3</th>\n",
       "      <td>-0.2023</td>\n",
       "      <td>Mon Apr 09 16:58:41 +0000 2018</td>\n",
       "      <td>0.795</td>\n",
       "      <td>0.205</td>\n",
       "      <td>0.0</td>\n",
       "      <td>4</td>\n",
       "    </tr>\n",
       "    <tr>\n",
       "      <th>4</th>\n",
       "      <td>0.0000</td>\n",
       "      <td>Mon Apr 09 16:58:00 +0000 2018</td>\n",
       "      <td>1.000</td>\n",
       "      <td>0.000</td>\n",
       "      <td>0.0</td>\n",
       "      <td>5</td>\n",
       "    </tr>\n",
       "  </tbody>\n",
       "</table>\n",
       "</div>"
      ],
      "text/plain": [
       "   Compound                            Date  Negative  Neutral  Positive  \\\n",
       "0   -0.7845  Mon Apr 09 20:08:24 +0000 2018     0.655    0.345       0.0   \n",
       "1   -0.2732  Mon Apr 09 18:44:47 +0000 2018     0.741    0.259       0.0   \n",
       "2   -0.3182  Mon Apr 09 17:33:37 +0000 2018     0.796    0.204       0.0   \n",
       "3   -0.2023  Mon Apr 09 16:58:41 +0000 2018     0.795    0.205       0.0   \n",
       "4    0.0000  Mon Apr 09 16:58:00 +0000 2018     1.000    0.000       0.0   \n",
       "\n",
       "   Tweets Ago  \n",
       "0           1  \n",
       "1           2  \n",
       "2           3  \n",
       "3           4  \n",
       "4           5  "
      ]
     },
     "execution_count": 14,
     "metadata": {},
     "output_type": "execute_result"
    }
   ],
   "source": [
    "sentimentsBBC_pd.head()"
   ]
  },
  {
   "cell_type": "code",
   "execution_count": 15,
   "metadata": {},
   "outputs": [
    {
     "data": {
      "text/html": [
       "<div>\n",
       "<style scoped>\n",
       "    .dataframe tbody tr th:only-of-type {\n",
       "        vertical-align: middle;\n",
       "    }\n",
       "\n",
       "    .dataframe tbody tr th {\n",
       "        vertical-align: top;\n",
       "    }\n",
       "\n",
       "    .dataframe thead th {\n",
       "        text-align: right;\n",
       "    }\n",
       "</style>\n",
       "<table border=\"1\" class=\"dataframe\">\n",
       "  <thead>\n",
       "    <tr style=\"text-align: right;\">\n",
       "      <th></th>\n",
       "      <th>Compound</th>\n",
       "      <th>Date</th>\n",
       "      <th>Negative</th>\n",
       "      <th>Neutral</th>\n",
       "      <th>Positive</th>\n",
       "      <th>Tweets Ago</th>\n",
       "    </tr>\n",
       "  </thead>\n",
       "  <tbody>\n",
       "    <tr>\n",
       "      <th>0</th>\n",
       "      <td>0.0258</td>\n",
       "      <td>Mon Apr 09 20:20:05 +0000 2018</td>\n",
       "      <td>0.939</td>\n",
       "      <td>0.000</td>\n",
       "      <td>0.061</td>\n",
       "      <td>1</td>\n",
       "    </tr>\n",
       "    <tr>\n",
       "      <th>1</th>\n",
       "      <td>0.0000</td>\n",
       "      <td>Mon Apr 09 20:10:06 +0000 2018</td>\n",
       "      <td>1.000</td>\n",
       "      <td>0.000</td>\n",
       "      <td>0.000</td>\n",
       "      <td>2</td>\n",
       "    </tr>\n",
       "    <tr>\n",
       "      <th>2</th>\n",
       "      <td>-0.3818</td>\n",
       "      <td>Mon Apr 09 20:06:34 +0000 2018</td>\n",
       "      <td>0.746</td>\n",
       "      <td>0.184</td>\n",
       "      <td>0.070</td>\n",
       "      <td>3</td>\n",
       "    </tr>\n",
       "    <tr>\n",
       "      <th>3</th>\n",
       "      <td>0.0000</td>\n",
       "      <td>Mon Apr 09 20:04:49 +0000 2018</td>\n",
       "      <td>1.000</td>\n",
       "      <td>0.000</td>\n",
       "      <td>0.000</td>\n",
       "      <td>4</td>\n",
       "    </tr>\n",
       "    <tr>\n",
       "      <th>4</th>\n",
       "      <td>0.0000</td>\n",
       "      <td>Mon Apr 09 20:02:36 +0000 2018</td>\n",
       "      <td>1.000</td>\n",
       "      <td>0.000</td>\n",
       "      <td>0.000</td>\n",
       "      <td>5</td>\n",
       "    </tr>\n",
       "  </tbody>\n",
       "</table>\n",
       "</div>"
      ],
      "text/plain": [
       "   Compound                            Date  Negative  Neutral  Positive  \\\n",
       "0    0.0258  Mon Apr 09 20:20:05 +0000 2018     0.939    0.000     0.061   \n",
       "1    0.0000  Mon Apr 09 20:10:06 +0000 2018     1.000    0.000     0.000   \n",
       "2   -0.3818  Mon Apr 09 20:06:34 +0000 2018     0.746    0.184     0.070   \n",
       "3    0.0000  Mon Apr 09 20:04:49 +0000 2018     1.000    0.000     0.000   \n",
       "4    0.0000  Mon Apr 09 20:02:36 +0000 2018     1.000    0.000     0.000   \n",
       "\n",
       "   Tweets Ago  \n",
       "0           1  \n",
       "1           2  \n",
       "2           3  \n",
       "3           4  \n",
       "4           5  "
      ]
     },
     "execution_count": 15,
     "metadata": {},
     "output_type": "execute_result"
    }
   ],
   "source": [
    "sentimentsNYT_pd.head()"
   ]
  },
  {
   "cell_type": "code",
   "execution_count": 16,
   "metadata": {},
   "outputs": [
    {
     "data": {
      "text/html": [
       "<div>\n",
       "<style scoped>\n",
       "    .dataframe tbody tr th:only-of-type {\n",
       "        vertical-align: middle;\n",
       "    }\n",
       "\n",
       "    .dataframe tbody tr th {\n",
       "        vertical-align: top;\n",
       "    }\n",
       "\n",
       "    .dataframe thead th {\n",
       "        text-align: right;\n",
       "    }\n",
       "</style>\n",
       "<table border=\"1\" class=\"dataframe\">\n",
       "  <thead>\n",
       "    <tr style=\"text-align: right;\">\n",
       "      <th></th>\n",
       "      <th>Compound</th>\n",
       "      <th>Date</th>\n",
       "      <th>Negative</th>\n",
       "      <th>Neutral</th>\n",
       "      <th>Positive</th>\n",
       "      <th>Tweets Ago</th>\n",
       "    </tr>\n",
       "  </thead>\n",
       "  <tbody>\n",
       "    <tr>\n",
       "      <th>0</th>\n",
       "      <td>0.0000</td>\n",
       "      <td>Mon Apr 09 20:19:46 +0000 2018</td>\n",
       "      <td>1.000</td>\n",
       "      <td>0.000</td>\n",
       "      <td>0.000</td>\n",
       "      <td>1</td>\n",
       "    </tr>\n",
       "    <tr>\n",
       "      <th>1</th>\n",
       "      <td>0.4939</td>\n",
       "      <td>Mon Apr 09 19:59:45 +0000 2018</td>\n",
       "      <td>0.868</td>\n",
       "      <td>0.000</td>\n",
       "      <td>0.132</td>\n",
       "      <td>2</td>\n",
       "    </tr>\n",
       "    <tr>\n",
       "      <th>2</th>\n",
       "      <td>0.0000</td>\n",
       "      <td>Mon Apr 09 19:52:46 +0000 2018</td>\n",
       "      <td>1.000</td>\n",
       "      <td>0.000</td>\n",
       "      <td>0.000</td>\n",
       "      <td>3</td>\n",
       "    </tr>\n",
       "    <tr>\n",
       "      <th>3</th>\n",
       "      <td>-0.4019</td>\n",
       "      <td>Mon Apr 09 19:39:14 +0000 2018</td>\n",
       "      <td>0.731</td>\n",
       "      <td>0.174</td>\n",
       "      <td>0.096</td>\n",
       "      <td>4</td>\n",
       "    </tr>\n",
       "    <tr>\n",
       "      <th>4</th>\n",
       "      <td>0.0000</td>\n",
       "      <td>Mon Apr 09 19:33:53 +0000 2018</td>\n",
       "      <td>1.000</td>\n",
       "      <td>0.000</td>\n",
       "      <td>0.000</td>\n",
       "      <td>5</td>\n",
       "    </tr>\n",
       "  </tbody>\n",
       "</table>\n",
       "</div>"
      ],
      "text/plain": [
       "   Compound                            Date  Negative  Neutral  Positive  \\\n",
       "0    0.0000  Mon Apr 09 20:19:46 +0000 2018     1.000    0.000     0.000   \n",
       "1    0.4939  Mon Apr 09 19:59:45 +0000 2018     0.868    0.000     0.132   \n",
       "2    0.0000  Mon Apr 09 19:52:46 +0000 2018     1.000    0.000     0.000   \n",
       "3   -0.4019  Mon Apr 09 19:39:14 +0000 2018     0.731    0.174     0.096   \n",
       "4    0.0000  Mon Apr 09 19:33:53 +0000 2018     1.000    0.000     0.000   \n",
       "\n",
       "   Tweets Ago  \n",
       "0           1  \n",
       "1           2  \n",
       "2           3  \n",
       "3           4  \n",
       "4           5  "
      ]
     },
     "execution_count": 16,
     "metadata": {},
     "output_type": "execute_result"
    }
   ],
   "source": [
    "sentimentsCNN_pd.head()"
   ]
  },
  {
   "cell_type": "code",
   "execution_count": 45,
   "metadata": {},
   "outputs": [
    {
     "data": {
      "image/png": "[encoded data removed]",
      "text/plain": [
       "<matplotlib.figure.Figure at 0xe55dfd0>"
      ]
     },
     "metadata": {},
     "output_type": "display_data"
    }
   ],
   "source": [
    "# Create plot\n",
    "CBS = plt.scatter(np.arange(len(sentimentsCBS_pd[\"Compound\"])),\n",
    "         sentimentsCBS_pd[\"Compound\"], marker=\"o\", linewidth=0.5,\n",
    "         alpha=0.8)\n",
    "FOX = plt.scatter(np.arange(len(sentimentsFOX_pd[\"Compound\"])),\n",
    "         sentimentsFOX_pd[\"Compound\"], marker=\"o\", linewidth=0.5,\n",
    "         alpha=0.8)\n",
    "BBC = plt.scatter(np.arange(len(sentimentsBBC_pd[\"Compound\"])),\n",
    "         sentimentsBBC_pd[\"Compound\"], marker=\"o\", linewidth=0.5,\n",
    "         alpha=0.8)\n",
    "NYT = plt.scatter(np.arange(len(sentimentsNYT_pd[\"Compound\"])),\n",
    "         sentimentsNYT_pd[\"Compound\"], marker=\"o\", linewidth=0.5,\n",
    "         alpha=0.8)\n",
    "CNN = plt.scatter(np.arange(len(sentimentsCNN_pd[\"Compound\"])),\n",
    "         sentimentsCNN_pd[\"Compound\"], marker=\"o\", linewidth=0.5,\n",
    "         alpha=0.8)\n",
    "\n",
    "# # Incorporate the other graph properties\n",
    "plt.title(\"Sentiment Analysis of Media Tweets (04-09-2018)\")\n",
    "plt.ylabel(\"Tweet Polarity\")\n",
    "plt.xlabel(\"Tweets Ago\")\n",
    "plt.legend((CBS, FOX, BBC, NYT, CNN), (\"CBS\", \"FOX\", \"BBC\", \"NYT\", \"CNN\"), scatterpoints=1, loc=\"lower left\", ncol=1, fontsize=8)\n",
    "plt.show()"
   ]
  },
  {
   "cell_type": "code",
   "execution_count": 46,
   "metadata": {},
   "outputs": [
    {
     "data": {
      "text/plain": [
       "<matplotlib.figure.Figure at 0xe537860>"
      ]
     },
     "metadata": {},
     "output_type": "display_data"
    }
   ],
   "source": [
    "plt.savefig(\"VWongHmwk#7_SentimentAnalysis.png\")"
   ]
  },
  {
   "cell_type": "code",
   "execution_count": 18,
   "metadata": {},
   "outputs": [
    {
     "name": "stdout",
     "output_type": "stream",
     "text": [
      "-0.15054800000000004\n",
      "-0.09982300000000002\n",
      "-0.020800000000000027\n",
      "-0.007283999999999993\n",
      "-0.155424\n"
     ]
    }
   ],
   "source": [
    "meanCBS = sentimentsCBS_pd[\"Compound\"].mean()\n",
    "print(meanCBS)\n",
    "meanFOX = sentimentsFOX_pd[\"Compound\"].mean()  \n",
    "print(meanFOX)\n",
    "meanBBC = sentimentsBBC_pd[\"Compound\"].mean()\n",
    "print(meanBBC)\n",
    "meanNYT = sentimentsNYT_pd[\"Compound\"].mean()  \n",
    "print(meanNYT)\n",
    "meanCNN = sentimentsCNN_pd[\"Compound\"].mean()  \n",
    "print(meanCNN)"
   ]
  },
  {
   "cell_type": "code",
   "execution_count": 19,
   "metadata": {},
   "outputs": [
    {
     "name": "stdout",
     "output_type": "stream",
     "text": [
      "[-0.15054800000000004, -0.09982300000000002, -0.020800000000000027, -0.007283999999999993, -0.155424]\n"
     ]
    }
   ],
   "source": [
    "Media_Outlets = [\"CBS\", \"FOX\", \"BBC\", \"NYT\", \"CNN\"]\n",
    "Tweet_Polarity = [meanCBS, meanFOX, meanBBC, meanNYT, meanCNN]\n",
    "print(Tweet_Polarity)"
   ]
  },
  {
   "cell_type": "code",
   "execution_count": 29,
   "metadata": {},
   "outputs": [
    {
     "name": "stdout",
     "output_type": "stream",
     "text": [
      "[{'Media': 'CBS', 'MeanPolarity': -0.15054800000000004}, {'Media': 'Fox', 'MeanPolarity': -0.09982300000000002}, {'Media': 'BBC', 'MeanPolarity': -0.020800000000000027}, {'Media': 'NYT', 'MeanPolarity': -0.007283999999999993}, {'Media': 'CNN', 'MeanPolarity': -0.155424}]\n"
     ]
    }
   ],
   "source": [
    "media_tweetpolarity = [{\"Media\":\"CBS\", \"MeanPolarity\":meanCBS},{\"Media\":\"Fox\", \"MeanPolarity\":meanFOX}, {\"Media\":\"BBC\", \"MeanPolarity\":meanBBC},{\"Media\":\"NYT\", \"MeanPolarity\":meanNYT},{\"Media\":\"CNN\", \"MeanPolarity\":meanCNN}]\n",
    "print (media_tweetpolarity)"
   ]
  },
  {
   "cell_type": "code",
   "execution_count": 30,
   "metadata": {},
   "outputs": [
    {
     "data": {
      "text/html": [
       "<div>\n",
       "<style scoped>\n",
       "    .dataframe tbody tr th:only-of-type {\n",
       "        vertical-align: middle;\n",
       "    }\n",
       "\n",
       "    .dataframe tbody tr th {\n",
       "        vertical-align: top;\n",
       "    }\n",
       "\n",
       "    .dataframe thead th {\n",
       "        text-align: right;\n",
       "    }\n",
       "</style>\n",
       "<table border=\"1\" class=\"dataframe\">\n",
       "  <thead>\n",
       "    <tr style=\"text-align: right;\">\n",
       "      <th></th>\n",
       "      <th>MeanPolarity</th>\n",
       "      <th>Media</th>\n",
       "    </tr>\n",
       "  </thead>\n",
       "  <tbody>\n",
       "    <tr>\n",
       "      <th>0</th>\n",
       "      <td>-0.150548</td>\n",
       "      <td>CBS</td>\n",
       "    </tr>\n",
       "    <tr>\n",
       "      <th>1</th>\n",
       "      <td>-0.099823</td>\n",
       "      <td>Fox</td>\n",
       "    </tr>\n",
       "    <tr>\n",
       "      <th>2</th>\n",
       "      <td>-0.020800</td>\n",
       "      <td>BBC</td>\n",
       "    </tr>\n",
       "    <tr>\n",
       "      <th>3</th>\n",
       "      <td>-0.007284</td>\n",
       "      <td>NYT</td>\n",
       "    </tr>\n",
       "    <tr>\n",
       "      <th>4</th>\n",
       "      <td>-0.155424</td>\n",
       "      <td>CNN</td>\n",
       "    </tr>\n",
       "  </tbody>\n",
       "</table>\n",
       "</div>"
      ],
      "text/plain": [
       "   MeanPolarity Media\n",
       "0     -0.150548   CBS\n",
       "1     -0.099823   Fox\n",
       "2     -0.020800   BBC\n",
       "3     -0.007284   NYT\n",
       "4     -0.155424   CNN"
      ]
     },
     "execution_count": 30,
     "metadata": {},
     "output_type": "execute_result"
    }
   ],
   "source": [
    "media_tweetpolarity_df = pd.DataFrame(media_tweetpolarity)\n",
    "media_tweetpolarity_df"
   ]
  },
  {
   "cell_type": "code",
   "execution_count": 52,
   "metadata": {},
   "outputs": [
    {
     "data": {
      "text/plain": [
       "<matplotlib.axes._subplots.AxesSubplot at 0xe393160>"
      ]
     },
     "execution_count": 52,
     "metadata": {},
     "output_type": "execute_result"
    },
    {
     "data": {
      "image/png": "[encoded data removed]",
      "text/plain": [
       "<matplotlib.figure.Figure at 0xe3b7a20>"
      ]
     },
     "metadata": {},
     "output_type": "display_data"
    }
   ],
   "source": [
    "media_tweetpolarity_df.plot(kind=\"bar\", x=\"Media\", y=\"MeanPolarity\", title=\"Overall Media Sentiment based on Twitter 04-09-2018\")"
   ]
  },
  {
   "cell_type": "code",
   "execution_count": 53,
   "metadata": {},
   "outputs": [
    {
     "data": {
      "text/plain": [
       "<matplotlib.figure.Figure at 0xce059e8>"
      ]
     },
     "metadata": {},
     "output_type": "display_data"
    }
   ],
   "source": [
    "plt.savefig(\"VWongHmwk#7_MeanPolarity.png\")"
   ]
  },
  {
   "cell_type": "code",
   "execution_count": 54,
   "metadata": {},
   "outputs": [],
   "source": [
    "media_tweetpolarity_df.to_csv('media_tweetpolarity.csv') "
   ]
  },
  {
   "cell_type": "code",
   "execution_count": null,
   "metadata": {},
   "outputs": [],
   "source": []
  }
 ],
 "metadata": {
  "anaconda-cloud": {},
  "kernelspec": {
   "display_name": "Python 3",
   "language": "python",
   "name": "python3"
  },
  "language_info": {
   "codemirror_mode": {
    "name": "ipython",
    "version": 3
   },
   "file_extension": ".py",
   "mimetype": "text/x-python",
   "name": "python",
   "nbconvert_exporter": "python",
   "pygments_lexer": "ipython3",
   "version": "3.6.4"
  }
 },
 "nbformat": 4,
 "nbformat_minor": 1
}
